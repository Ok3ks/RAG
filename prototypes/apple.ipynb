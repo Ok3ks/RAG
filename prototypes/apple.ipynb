{
 "cells": [
  {
   "cell_type": "markdown",
   "metadata": {},
   "source": [
    "## Load file"
   ]
  },
  {
   "cell_type": "code",
   "execution_count": 1,
   "metadata": {},
   "outputs": [],
   "source": [
    "with open('Apple_sept.mp3.txt', 'r') as ins:\n",
    "    obj = ins.readlines()"
   ]
  },
  {
   "cell_type": "code",
   "execution_count": 10,
   "metadata": {},
   "outputs": [],
   "source": [
    "from nltk.probability import FreqDist\n",
    "from nltk import tokenize\n",
    "import pandas as pd\n",
    "import nltk \n",
    "import plotly.express as px\n",
    "\n",
    "words = tokenize.word_tokenize(obj[0])\n",
    "\n",
    "#Don't want to remove stopwords\n",
    "#from nltk.corpus import stopwords\n",
    "#nltk.download(\"stopwords\")\n",
    "#stop_words = stopwords.words('English')\n",
    "#print(stop_words)\n",
    "\n",
    "remove = [',', '.', 'a', 'the', 'and', 'to']  #manual exclusion list\n",
    "words = [x for x in words if x not in remove]"
   ]
  },
  {
   "cell_type": "code",
   "execution_count": 37,
   "metadata": {},
   "outputs": [
    {
     "data": {
      "text/html": [
       "<div>\n",
       "<style scoped>\n",
       "    .dataframe tbody tr th:only-of-type {\n",
       "        vertical-align: middle;\n",
       "    }\n",
       "\n",
       "    .dataframe tbody tr th {\n",
       "        vertical-align: top;\n",
       "    }\n",
       "\n",
       "    .dataframe thead th {\n",
       "        text-align: right;\n",
       "    }\n",
       "</style>\n",
       "<table border=\"1\" class=\"dataframe\">\n",
       "  <thead>\n",
       "    <tr style=\"text-align: right;\">\n",
       "      <th></th>\n",
       "      <th>words</th>\n",
       "      <th>count</th>\n",
       "    </tr>\n",
       "  </thead>\n",
       "  <tbody>\n",
       "    <tr>\n",
       "      <th>2</th>\n",
       "      <td>iPhone</td>\n",
       "      <td>37</td>\n",
       "    </tr>\n",
       "    <tr>\n",
       "      <th>40</th>\n",
       "      <td>Pro</td>\n",
       "      <td>30</td>\n",
       "    </tr>\n",
       "    <tr>\n",
       "      <th>46</th>\n",
       "      <td>with</td>\n",
       "      <td>25</td>\n",
       "    </tr>\n",
       "    <tr>\n",
       "      <th>8</th>\n",
       "      <td>in</td>\n",
       "      <td>21</td>\n",
       "    </tr>\n",
       "    <tr>\n",
       "      <th>66</th>\n",
       "      <td>of</td>\n",
       "      <td>20</td>\n",
       "    </tr>\n",
       "    <tr>\n",
       "      <th>...</th>\n",
       "      <td>...</td>\n",
       "      <td>...</td>\n",
       "    </tr>\n",
       "    <tr>\n",
       "      <th>257</th>\n",
       "      <td>ca</td>\n",
       "      <td>1</td>\n",
       "    </tr>\n",
       "    <tr>\n",
       "      <th>255</th>\n",
       "      <td>brand</td>\n",
       "      <td>1</td>\n",
       "    </tr>\n",
       "    <tr>\n",
       "      <th>253</th>\n",
       "      <td>gives</td>\n",
       "      <td>1</td>\n",
       "    </tr>\n",
       "    <tr>\n",
       "      <th>252</th>\n",
       "      <td>many</td>\n",
       "      <td>1</td>\n",
       "    </tr>\n",
       "    <tr>\n",
       "      <th>552</th>\n",
       "      <td>soon</td>\n",
       "      <td>1</td>\n",
       "    </tr>\n",
       "  </tbody>\n",
       "</table>\n",
       "<p>553 rows × 2 columns</p>\n",
       "</div>"
      ],
      "text/plain": [
       "      words  count\n",
       "2    iPhone     37\n",
       "40      Pro     30\n",
       "46     with     25\n",
       "8        in     21\n",
       "66       of     20\n",
       "..      ...    ...\n",
       "257      ca      1\n",
       "255   brand      1\n",
       "253   gives      1\n",
       "252    many      1\n",
       "552    soon      1\n",
       "\n",
       "[553 rows x 2 columns]"
      ]
     },
     "execution_count": 37,
     "metadata": {},
     "output_type": "execute_result"
    }
   ],
   "source": [
    "distrib = FreqDist(words)\n",
    "distrib = pd.DataFrame(distrib, index = range(len(distrib.keys())))\n",
    "\n",
    "distrib = distrib.T.reset_index()\n",
    "distrib = distrib.iloc[:, :2]\n",
    "distrib.columns = ['words', 'count']\n",
    "distrib.sort_values(by='count', ascending=False, inplace= True)\n",
    "distrib"
   ]
  },
  {
   "cell_type": "markdown",
   "metadata": {},
   "source": [
    "## Tokenize by word count and analyse"
   ]
  },
  {
   "cell_type": "code",
   "execution_count": 38,
   "metadata": {},
   "outputs": [
    {
     "data": {
      "application/vnd.plotly.v1+json": {
       "config": {
        "plotlyServerURL": "https://plot.ly"
       },
       "data": [
        {
         "branchvalues": "total",
         "customdata": [
          [
           4
          ],
          [
           10
          ],
          [
           4
          ],
          [
           19
          ],
          [
           9
          ],
          [
           10
          ],
          [
           5
          ],
          [
           4
          ],
          [
           4
          ],
          [
           30
          ],
          [
           4
          ],
          [
           4
          ],
          [
           6
          ],
          [
           5
          ],
          [
           4
          ],
          [
           4
          ],
          [
           4
          ],
          [
           3
          ],
          [
           3
          ],
          [
           6
          ],
          [
           9
          ],
          [
           8
          ],
          [
           7
          ],
          [
           9
          ],
          [
           6
          ],
          [
           3
          ],
          [
           4
          ],
          [
           4
          ],
          [
           4
          ],
          [
           5
          ],
          [
           3
          ],
          [
           14
          ],
          [
           13
          ],
          [
           4
          ],
          [
           4
          ],
          [
           5
          ],
          [
           3
          ],
          [
           7
          ],
          [
           10
          ],
          [
           4
          ],
          [
           4
          ],
          [
           4
          ],
          [
           7
          ],
          [
           20
          ],
          [
           4
          ],
          [
           6
          ],
          [
           5
          ],
          [
           37
          ],
          [
           21
          ],
          [
           6
          ],
          [
           10
          ],
          [
           4
          ],
          [
           7
          ],
          [
           4
          ],
          [
           3
          ],
          [
           3
          ],
          [
           3
          ],
          [
           6
          ],
          [
           10
          ],
          [
           8
          ],
          [
           3
          ],
          [
           14
          ],
          [
           5
          ],
          [
           20
          ],
          [
           10
          ],
          [
           3
          ],
          [
           5
          ],
          [
           3
          ],
          [
           20
          ],
          [
           8
          ],
          [
           3
          ],
          [
           4
          ],
          [
           5
          ],
          [
           6
          ],
          [
           3
          ],
          [
           3
          ],
          [
           5
          ],
          [
           4
          ],
          [
           5
          ],
          [
           3
          ],
          [
           5
          ],
          [
           4
          ],
          [
           9
          ],
          [
           5
          ],
          [
           4
          ],
          [
           8
          ],
          [
           4
          ],
          [
           3
          ],
          [
           4
          ],
          [
           4
          ],
          [
           5
          ],
          [
           6
          ],
          [
           11
          ],
          [
           7
          ],
          [
           25
          ],
          [
           3
          ],
          [
           4
          ],
          [
           19
          ],
          [
           10
          ],
          [
           5
          ],
          [
           12.138075313807532
          ]
         ],
         "domain": {
          "x": [
           0,
           1
          ],
          "y": [
           0,
           1
          ]
         },
         "hovertemplate": "labels=%{label}<br>count_sum=%{value}<br>parent=%{parent}<br>id=%{id}<br>count=%{color}<extra></extra>",
         "ids": [
          "Plot keywords/'re",
          "Plot keywords/'s",
          "Plot keywords/120",
          "Plot keywords/15",
          "Plot keywords/And",
          "Plot keywords/Apple",
          "Plot keywords/Max",
          "Plot keywords/Now",
          "Plot keywords/Plus",
          "Plot keywords/Pro",
          "Plot keywords/ProRes",
          "Plot keywords/So",
          "Plot keywords/The",
          "Plot keywords/This",
          "Plot keywords/Watch",
          "Plot keywords/We",
          "Plot keywords/With",
          "Plot keywords/You",
          "Plot keywords/action",
          "Plot keywords/all",
          "Plot keywords/also",
          "Plot keywords/an",
          "Plot keywords/are",
          "Plot keywords/as",
          "Plot keywords/at",
          "Plot keywords/available",
          "Plot keywords/back",
          "Plot keywords/be",
          "Plot keywords/beautiful",
          "Plot keywords/best",
          "Plot keywords/better",
          "Plot keywords/camera",
          "Plot keywords/can",
          "Plot keywords/capture",
          "Plot keywords/create",
          "Plot keywords/design",
          "Plot keywords/dynamic",
          "Plot keywords/even",
          "Plot keywords/ever",
          "Plot keywords/features",
          "Plot keywords/featuring",
          "Plot keywords/first",
          "Plot keywords/focal",
          "Plot keywords/for",
          "Plot keywords/from",
          "Plot keywords/great",
          "Plot keywords/her",
          "Plot keywords/iPhone",
          "Plot keywords/in",
          "Plot keywords/incredible",
          "Plot keywords/is",
          "Plot keywords/it",
          "Plot keywords/length",
          "Plot keywords/light",
          "Plot keywords/lineup",
          "Plot keywords/look",
          "Plot keywords/main",
          "Plot keywords/millimeter",
          "Plot keywords/more",
          "Plot keywords/most",
          "Plot keywords/n't",
          "Plot keywords/new",
          "Plot keywords/now",
          "Plot keywords/of",
          "Plot keywords/on",
          "Plot keywords/one",
          "Plot keywords/optical",
          "Plot keywords/or",
          "Plot keywords/our",
          "Plot keywords/photos",
          "Plot keywords/portraits",
          "Plot keywords/powerful",
          "Plot keywords/pro",
          "Plot keywords/range",
          "Plot keywords/see",
          "Plot keywords/sensor",
          "Plot keywords/smartphone",
          "Plot keywords/so",
          "Plot keywords/spatial",
          "Plot keywords/storage",
          "Plot keywords/system",
          "Plot keywords/telephoto",
          "Plot keywords/that",
          "Plot keywords/these",
          "Plot keywords/they",
          "Plot keywords/this",
          "Plot keywords/time",
          "Plot keywords/transfer",
          "Plot keywords/up",
          "Plot keywords/use",
          "Plot keywords/video",
          "Plot keywords/videos",
          "Plot keywords/we",
          "Plot keywords/will",
          "Plot keywords/with",
          "Plot keywords/year",
          "Plot keywords/yet",
          "Plot keywords/you",
          "Plot keywords/your",
          "Plot keywords/zoom",
          "Plot keywords"
         ],
         "labels": [
          "'re",
          "'s",
          "120",
          "15",
          "And",
          "Apple",
          "Max",
          "Now",
          "Plus",
          "Pro",
          "ProRes",
          "So",
          "The",
          "This",
          "Watch",
          "We",
          "With",
          "You",
          "action",
          "all",
          "also",
          "an",
          "are",
          "as",
          "at",
          "available",
          "back",
          "be",
          "beautiful",
          "best",
          "better",
          "camera",
          "can",
          "capture",
          "create",
          "design",
          "dynamic",
          "even",
          "ever",
          "features",
          "featuring",
          "first",
          "focal",
          "for",
          "from",
          "great",
          "her",
          "iPhone",
          "in",
          "incredible",
          "is",
          "it",
          "length",
          "light",
          "lineup",
          "look",
          "main",
          "millimeter",
          "more",
          "most",
          "n't",
          "new",
          "now",
          "of",
          "on",
          "one",
          "optical",
          "or",
          "our",
          "photos",
          "portraits",
          "powerful",
          "pro",
          "range",
          "see",
          "sensor",
          "smartphone",
          "so",
          "spatial",
          "storage",
          "system",
          "telephoto",
          "that",
          "these",
          "they",
          "this",
          "time",
          "transfer",
          "up",
          "use",
          "video",
          "videos",
          "we",
          "will",
          "with",
          "year",
          "yet",
          "you",
          "your",
          "zoom",
          "Plot keywords"
         ],
         "marker": {
          "coloraxis": "coloraxis",
          "colors": [
           4,
           10,
           4,
           19,
           9,
           10,
           5,
           4,
           4,
           30,
           4,
           4,
           6,
           5,
           4,
           4,
           4,
           3,
           3,
           6,
           9,
           8,
           7,
           9,
           6,
           3,
           4,
           4,
           4,
           5,
           3,
           14,
           13,
           4,
           4,
           5,
           3,
           7,
           10,
           4,
           4,
           4,
           7,
           20,
           4,
           6,
           5,
           37,
           21,
           6,
           10,
           4,
           7,
           4,
           3,
           3,
           3,
           6,
           10,
           8,
           3,
           14,
           5,
           20,
           10,
           3,
           5,
           3,
           20,
           8,
           3,
           4,
           5,
           6,
           3,
           3,
           5,
           4,
           5,
           3,
           5,
           4,
           9,
           5,
           4,
           8,
           4,
           3,
           4,
           4,
           5,
           6,
           11,
           7,
           25,
           3,
           4,
           19,
           10,
           5,
           12.138075313807532
          ]
         },
         "name": "",
         "parents": [
          "Plot keywords",
          "Plot keywords",
          "Plot keywords",
          "Plot keywords",
          "Plot keywords",
          "Plot keywords",
          "Plot keywords",
          "Plot keywords",
          "Plot keywords",
          "Plot keywords",
          "Plot keywords",
          "Plot keywords",
          "Plot keywords",
          "Plot keywords",
          "Plot keywords",
          "Plot keywords",
          "Plot keywords",
          "Plot keywords",
          "Plot keywords",
          "Plot keywords",
          "Plot keywords",
          "Plot keywords",
          "Plot keywords",
          "Plot keywords",
          "Plot keywords",
          "Plot keywords",
          "Plot keywords",
          "Plot keywords",
          "Plot keywords",
          "Plot keywords",
          "Plot keywords",
          "Plot keywords",
          "Plot keywords",
          "Plot keywords",
          "Plot keywords",
          "Plot keywords",
          "Plot keywords",
          "Plot keywords",
          "Plot keywords",
          "Plot keywords",
          "Plot keywords",
          "Plot keywords",
          "Plot keywords",
          "Plot keywords",
          "Plot keywords",
          "Plot keywords",
          "Plot keywords",
          "Plot keywords",
          "Plot keywords",
          "Plot keywords",
          "Plot keywords",
          "Plot keywords",
          "Plot keywords",
          "Plot keywords",
          "Plot keywords",
          "Plot keywords",
          "Plot keywords",
          "Plot keywords",
          "Plot keywords",
          "Plot keywords",
          "Plot keywords",
          "Plot keywords",
          "Plot keywords",
          "Plot keywords",
          "Plot keywords",
          "Plot keywords",
          "Plot keywords",
          "Plot keywords",
          "Plot keywords",
          "Plot keywords",
          "Plot keywords",
          "Plot keywords",
          "Plot keywords",
          "Plot keywords",
          "Plot keywords",
          "Plot keywords",
          "Plot keywords",
          "Plot keywords",
          "Plot keywords",
          "Plot keywords",
          "Plot keywords",
          "Plot keywords",
          "Plot keywords",
          "Plot keywords",
          "Plot keywords",
          "Plot keywords",
          "Plot keywords",
          "Plot keywords",
          "Plot keywords",
          "Plot keywords",
          "Plot keywords",
          "Plot keywords",
          "Plot keywords",
          "Plot keywords",
          "Plot keywords",
          "Plot keywords",
          "Plot keywords",
          "Plot keywords",
          "Plot keywords",
          "Plot keywords",
          ""
         ],
         "type": "treemap",
         "values": [
          4,
          10,
          4,
          19,
          9,
          10,
          5,
          4,
          4,
          30,
          4,
          4,
          6,
          5,
          4,
          4,
          4,
          3,
          3,
          6,
          9,
          8,
          7,
          9,
          6,
          3,
          4,
          4,
          4,
          5,
          3,
          14,
          13,
          4,
          4,
          5,
          3,
          7,
          10,
          4,
          4,
          4,
          7,
          20,
          4,
          6,
          5,
          37,
          21,
          6,
          10,
          4,
          7,
          4,
          3,
          3,
          3,
          6,
          10,
          8,
          3,
          14,
          5,
          20,
          10,
          3,
          5,
          3,
          20,
          8,
          3,
          4,
          5,
          6,
          3,
          3,
          5,
          4,
          5,
          3,
          5,
          4,
          9,
          5,
          4,
          8,
          4,
          3,
          4,
          4,
          5,
          6,
          11,
          7,
          25,
          3,
          4,
          19,
          10,
          5,
          717
         ]
        }
       ],
       "layout": {
        "coloraxis": {
         "cmid": 2.37251356238698,
         "colorbar": {
          "title": {
           "text": "count"
          }
         },
         "colorscale": [
          [
           0,
           "#440154"
          ],
          [
           0.1111111111111111,
           "#482878"
          ],
          [
           0.2222222222222222,
           "#3e4989"
          ],
          [
           0.3333333333333333,
           "#31688e"
          ],
          [
           0.4444444444444444,
           "#26828e"
          ],
          [
           0.5555555555555556,
           "#1f9e89"
          ],
          [
           0.6666666666666666,
           "#35b779"
          ],
          [
           0.7777777777777778,
           "#6ece58"
          ],
          [
           0.8888888888888888,
           "#b5de2b"
          ],
          [
           1,
           "#fde725"
          ]
         ]
        },
        "legend": {
         "tracegroupgap": 0
        },
        "margin": {
         "b": 25,
         "l": 25,
         "r": 25,
         "t": 50
        },
        "template": {
         "data": {
          "bar": [
           {
            "error_x": {
             "color": "#2a3f5f"
            },
            "error_y": {
             "color": "#2a3f5f"
            },
            "marker": {
             "line": {
              "color": "#E5ECF6",
              "width": 0.5
             },
             "pattern": {
              "fillmode": "overlay",
              "size": 10,
              "solidity": 0.2
             }
            },
            "type": "bar"
           }
          ],
          "barpolar": [
           {
            "marker": {
             "line": {
              "color": "#E5ECF6",
              "width": 0.5
             },
             "pattern": {
              "fillmode": "overlay",
              "size": 10,
              "solidity": 0.2
             }
            },
            "type": "barpolar"
           }
          ],
          "carpet": [
           {
            "aaxis": {
             "endlinecolor": "#2a3f5f",
             "gridcolor": "white",
             "linecolor": "white",
             "minorgridcolor": "white",
             "startlinecolor": "#2a3f5f"
            },
            "baxis": {
             "endlinecolor": "#2a3f5f",
             "gridcolor": "white",
             "linecolor": "white",
             "minorgridcolor": "white",
             "startlinecolor": "#2a3f5f"
            },
            "type": "carpet"
           }
          ],
          "choropleth": [
           {
            "colorbar": {
             "outlinewidth": 0,
             "ticks": ""
            },
            "type": "choropleth"
           }
          ],
          "contour": [
           {
            "colorbar": {
             "outlinewidth": 0,
             "ticks": ""
            },
            "colorscale": [
             [
              0,
              "#0d0887"
             ],
             [
              0.1111111111111111,
              "#46039f"
             ],
             [
              0.2222222222222222,
              "#7201a8"
             ],
             [
              0.3333333333333333,
              "#9c179e"
             ],
             [
              0.4444444444444444,
              "#bd3786"
             ],
             [
              0.5555555555555556,
              "#d8576b"
             ],
             [
              0.6666666666666666,
              "#ed7953"
             ],
             [
              0.7777777777777778,
              "#fb9f3a"
             ],
             [
              0.8888888888888888,
              "#fdca26"
             ],
             [
              1,
              "#f0f921"
             ]
            ],
            "type": "contour"
           }
          ],
          "contourcarpet": [
           {
            "colorbar": {
             "outlinewidth": 0,
             "ticks": ""
            },
            "type": "contourcarpet"
           }
          ],
          "heatmap": [
           {
            "colorbar": {
             "outlinewidth": 0,
             "ticks": ""
            },
            "colorscale": [
             [
              0,
              "#0d0887"
             ],
             [
              0.1111111111111111,
              "#46039f"
             ],
             [
              0.2222222222222222,
              "#7201a8"
             ],
             [
              0.3333333333333333,
              "#9c179e"
             ],
             [
              0.4444444444444444,
              "#bd3786"
             ],
             [
              0.5555555555555556,
              "#d8576b"
             ],
             [
              0.6666666666666666,
              "#ed7953"
             ],
             [
              0.7777777777777778,
              "#fb9f3a"
             ],
             [
              0.8888888888888888,
              "#fdca26"
             ],
             [
              1,
              "#f0f921"
             ]
            ],
            "type": "heatmap"
           }
          ],
          "heatmapgl": [
           {
            "colorbar": {
             "outlinewidth": 0,
             "ticks": ""
            },
            "colorscale": [
             [
              0,
              "#0d0887"
             ],
             [
              0.1111111111111111,
              "#46039f"
             ],
             [
              0.2222222222222222,
              "#7201a8"
             ],
             [
              0.3333333333333333,
              "#9c179e"
             ],
             [
              0.4444444444444444,
              "#bd3786"
             ],
             [
              0.5555555555555556,
              "#d8576b"
             ],
             [
              0.6666666666666666,
              "#ed7953"
             ],
             [
              0.7777777777777778,
              "#fb9f3a"
             ],
             [
              0.8888888888888888,
              "#fdca26"
             ],
             [
              1,
              "#f0f921"
             ]
            ],
            "type": "heatmapgl"
           }
          ],
          "histogram": [
           {
            "marker": {
             "pattern": {
              "fillmode": "overlay",
              "size": 10,
              "solidity": 0.2
             }
            },
            "type": "histogram"
           }
          ],
          "histogram2d": [
           {
            "colorbar": {
             "outlinewidth": 0,
             "ticks": ""
            },
            "colorscale": [
             [
              0,
              "#0d0887"
             ],
             [
              0.1111111111111111,
              "#46039f"
             ],
             [
              0.2222222222222222,
              "#7201a8"
             ],
             [
              0.3333333333333333,
              "#9c179e"
             ],
             [
              0.4444444444444444,
              "#bd3786"
             ],
             [
              0.5555555555555556,
              "#d8576b"
             ],
             [
              0.6666666666666666,
              "#ed7953"
             ],
             [
              0.7777777777777778,
              "#fb9f3a"
             ],
             [
              0.8888888888888888,
              "#fdca26"
             ],
             [
              1,
              "#f0f921"
             ]
            ],
            "type": "histogram2d"
           }
          ],
          "histogram2dcontour": [
           {
            "colorbar": {
             "outlinewidth": 0,
             "ticks": ""
            },
            "colorscale": [
             [
              0,
              "#0d0887"
             ],
             [
              0.1111111111111111,
              "#46039f"
             ],
             [
              0.2222222222222222,
              "#7201a8"
             ],
             [
              0.3333333333333333,
              "#9c179e"
             ],
             [
              0.4444444444444444,
              "#bd3786"
             ],
             [
              0.5555555555555556,
              "#d8576b"
             ],
             [
              0.6666666666666666,
              "#ed7953"
             ],
             [
              0.7777777777777778,
              "#fb9f3a"
             ],
             [
              0.8888888888888888,
              "#fdca26"
             ],
             [
              1,
              "#f0f921"
             ]
            ],
            "type": "histogram2dcontour"
           }
          ],
          "mesh3d": [
           {
            "colorbar": {
             "outlinewidth": 0,
             "ticks": ""
            },
            "type": "mesh3d"
           }
          ],
          "parcoords": [
           {
            "line": {
             "colorbar": {
              "outlinewidth": 0,
              "ticks": ""
             }
            },
            "type": "parcoords"
           }
          ],
          "pie": [
           {
            "automargin": true,
            "type": "pie"
           }
          ],
          "scatter": [
           {
            "fillpattern": {
             "fillmode": "overlay",
             "size": 10,
             "solidity": 0.2
            },
            "type": "scatter"
           }
          ],
          "scatter3d": [
           {
            "line": {
             "colorbar": {
              "outlinewidth": 0,
              "ticks": ""
             }
            },
            "marker": {
             "colorbar": {
              "outlinewidth": 0,
              "ticks": ""
             }
            },
            "type": "scatter3d"
           }
          ],
          "scattercarpet": [
           {
            "marker": {
             "colorbar": {
              "outlinewidth": 0,
              "ticks": ""
             }
            },
            "type": "scattercarpet"
           }
          ],
          "scattergeo": [
           {
            "marker": {
             "colorbar": {
              "outlinewidth": 0,
              "ticks": ""
             }
            },
            "type": "scattergeo"
           }
          ],
          "scattergl": [
           {
            "marker": {
             "colorbar": {
              "outlinewidth": 0,
              "ticks": ""
             }
            },
            "type": "scattergl"
           }
          ],
          "scattermapbox": [
           {
            "marker": {
             "colorbar": {
              "outlinewidth": 0,
              "ticks": ""
             }
            },
            "type": "scattermapbox"
           }
          ],
          "scatterpolar": [
           {
            "marker": {
             "colorbar": {
              "outlinewidth": 0,
              "ticks": ""
             }
            },
            "type": "scatterpolar"
           }
          ],
          "scatterpolargl": [
           {
            "marker": {
             "colorbar": {
              "outlinewidth": 0,
              "ticks": ""
             }
            },
            "type": "scatterpolargl"
           }
          ],
          "scatterternary": [
           {
            "marker": {
             "colorbar": {
              "outlinewidth": 0,
              "ticks": ""
             }
            },
            "type": "scatterternary"
           }
          ],
          "surface": [
           {
            "colorbar": {
             "outlinewidth": 0,
             "ticks": ""
            },
            "colorscale": [
             [
              0,
              "#0d0887"
             ],
             [
              0.1111111111111111,
              "#46039f"
             ],
             [
              0.2222222222222222,
              "#7201a8"
             ],
             [
              0.3333333333333333,
              "#9c179e"
             ],
             [
              0.4444444444444444,
              "#bd3786"
             ],
             [
              0.5555555555555556,
              "#d8576b"
             ],
             [
              0.6666666666666666,
              "#ed7953"
             ],
             [
              0.7777777777777778,
              "#fb9f3a"
             ],
             [
              0.8888888888888888,
              "#fdca26"
             ],
             [
              1,
              "#f0f921"
             ]
            ],
            "type": "surface"
           }
          ],
          "table": [
           {
            "cells": {
             "fill": {
              "color": "#EBF0F8"
             },
             "line": {
              "color": "white"
             }
            },
            "header": {
             "fill": {
              "color": "#C8D4E3"
             },
             "line": {
              "color": "white"
             }
            },
            "type": "table"
           }
          ]
         },
         "layout": {
          "annotationdefaults": {
           "arrowcolor": "#2a3f5f",
           "arrowhead": 0,
           "arrowwidth": 1
          },
          "autotypenumbers": "strict",
          "coloraxis": {
           "colorbar": {
            "outlinewidth": 0,
            "ticks": ""
           }
          },
          "colorscale": {
           "diverging": [
            [
             0,
             "#8e0152"
            ],
            [
             0.1,
             "#c51b7d"
            ],
            [
             0.2,
             "#de77ae"
            ],
            [
             0.3,
             "#f1b6da"
            ],
            [
             0.4,
             "#fde0ef"
            ],
            [
             0.5,
             "#f7f7f7"
            ],
            [
             0.6,
             "#e6f5d0"
            ],
            [
             0.7,
             "#b8e186"
            ],
            [
             0.8,
             "#7fbc41"
            ],
            [
             0.9,
             "#4d9221"
            ],
            [
             1,
             "#276419"
            ]
           ],
           "sequential": [
            [
             0,
             "#0d0887"
            ],
            [
             0.1111111111111111,
             "#46039f"
            ],
            [
             0.2222222222222222,
             "#7201a8"
            ],
            [
             0.3333333333333333,
             "#9c179e"
            ],
            [
             0.4444444444444444,
             "#bd3786"
            ],
            [
             0.5555555555555556,
             "#d8576b"
            ],
            [
             0.6666666666666666,
             "#ed7953"
            ],
            [
             0.7777777777777778,
             "#fb9f3a"
            ],
            [
             0.8888888888888888,
             "#fdca26"
            ],
            [
             1,
             "#f0f921"
            ]
           ],
           "sequentialminus": [
            [
             0,
             "#0d0887"
            ],
            [
             0.1111111111111111,
             "#46039f"
            ],
            [
             0.2222222222222222,
             "#7201a8"
            ],
            [
             0.3333333333333333,
             "#9c179e"
            ],
            [
             0.4444444444444444,
             "#bd3786"
            ],
            [
             0.5555555555555556,
             "#d8576b"
            ],
            [
             0.6666666666666666,
             "#ed7953"
            ],
            [
             0.7777777777777778,
             "#fb9f3a"
            ],
            [
             0.8888888888888888,
             "#fdca26"
            ],
            [
             1,
             "#f0f921"
            ]
           ]
          },
          "colorway": [
           "#636efa",
           "#EF553B",
           "#00cc96",
           "#ab63fa",
           "#FFA15A",
           "#19d3f3",
           "#FF6692",
           "#B6E880",
           "#FF97FF",
           "#FECB52"
          ],
          "font": {
           "color": "#2a3f5f"
          },
          "geo": {
           "bgcolor": "white",
           "lakecolor": "white",
           "landcolor": "#E5ECF6",
           "showlakes": true,
           "showland": true,
           "subunitcolor": "white"
          },
          "hoverlabel": {
           "align": "left"
          },
          "hovermode": "closest",
          "mapbox": {
           "style": "light"
          },
          "paper_bgcolor": "white",
          "plot_bgcolor": "#E5ECF6",
          "polar": {
           "angularaxis": {
            "gridcolor": "white",
            "linecolor": "white",
            "ticks": ""
           },
           "bgcolor": "#E5ECF6",
           "radialaxis": {
            "gridcolor": "white",
            "linecolor": "white",
            "ticks": ""
           }
          },
          "scene": {
           "xaxis": {
            "backgroundcolor": "#E5ECF6",
            "gridcolor": "white",
            "gridwidth": 2,
            "linecolor": "white",
            "showbackground": true,
            "ticks": "",
            "zerolinecolor": "white"
           },
           "yaxis": {
            "backgroundcolor": "#E5ECF6",
            "gridcolor": "white",
            "gridwidth": 2,
            "linecolor": "white",
            "showbackground": true,
            "ticks": "",
            "zerolinecolor": "white"
           },
           "zaxis": {
            "backgroundcolor": "#E5ECF6",
            "gridcolor": "white",
            "gridwidth": 2,
            "linecolor": "white",
            "showbackground": true,
            "ticks": "",
            "zerolinecolor": "white"
           }
          },
          "shapedefaults": {
           "line": {
            "color": "#2a3f5f"
           }
          },
          "ternary": {
           "aaxis": {
            "gridcolor": "white",
            "linecolor": "white",
            "ticks": ""
           },
           "baxis": {
            "gridcolor": "white",
            "linecolor": "white",
            "ticks": ""
           },
           "bgcolor": "#E5ECF6",
           "caxis": {
            "gridcolor": "white",
            "linecolor": "white",
            "ticks": ""
           }
          },
          "title": {
           "x": 0.05
          },
          "xaxis": {
           "automargin": true,
           "gridcolor": "white",
           "linecolor": "white",
           "ticks": "",
           "title": {
            "standoff": 15
           },
           "zerolinecolor": "white",
           "zerolinewidth": 2
          },
          "yaxis": {
           "automargin": true,
           "gridcolor": "white",
           "linecolor": "white",
           "ticks": "",
           "title": {
            "standoff": 15
           },
           "zerolinecolor": "white",
           "zerolinewidth": 2
          }
         }
        }
       }
      }
     },
     "metadata": {},
     "output_type": "display_data"
    }
   ],
   "source": [
    "import numpy as np\n",
    "\n",
    "fig = px.treemap(distrib[0:100], path=[px.Constant(\"Plot keywords\"), 'words'],\n",
    "                    values='count',\n",
    "                    color='count',\n",
    "                    color_continuous_scale='viridis',\n",
    "                    color_continuous_midpoint=np.average(distrib['count'])\n",
    "                    )\n",
    "\n",
    "fig.update_layout(margin = dict(t=50, l=25, r=25, b=25))\n"
   ]
  },
  {
   "cell_type": "markdown",
   "metadata": {},
   "source": [
    "## Generate Sentence embeddings and cluster by marketing emotions\n"
   ]
  },
  {
   "cell_type": "code",
   "execution_count": 40,
   "metadata": {},
   "outputs": [
    {
     "name": "stdout",
     "output_type": "stream",
     "text": [
      "There are 84 sentences in the document and it took 0.8496515830001954 seconds to encode\n"
     ]
    }
   ],
   "source": [
    "import spacy\n",
    "from time import perf_counter\n",
    "\n",
    "from sentence_transformers import SentenceTransformer\n",
    "\n",
    "\n",
    "model = SentenceTransformer('sentence-transformers/all-MiniLM-L6-v2')\n",
    "nlp = spacy.load(\"en_core_web_sm\")\n",
    "nlp.add_pipe('sentencizer')\n",
    "\n",
    "lines = nlp(obj[0])\n",
    "doc = {'id': [], 'text': [], 'embedding': []}\n",
    "count = 0\n",
    "\n",
    "start = perf_counter()\n",
    "for line in lines.sents:\n",
    "\n",
    "    doc['id'].append(count)\n",
    "    doc['text'].append(line.text)\n",
    "    \n",
    "\n",
    "    embedding = model.encode(line.text)\n",
    "    doc['embedding'].append(embedding)\n",
    "    assert embedding.shape[0] == 384\n",
    "\n",
    "    count += 1\n",
    "end = perf_counter()\n",
    "\n",
    "print(f\"There are {count} sentences in the document and it took {end-start} seconds to encode\")"
   ]
  },
  {
   "cell_type": "code",
   "execution_count": 47,
   "metadata": {},
   "outputs": [
    {
     "data": {
      "text/html": [
       "<div>\n",
       "<style scoped>\n",
       "    .dataframe tbody tr th:only-of-type {\n",
       "        vertical-align: middle;\n",
       "    }\n",
       "\n",
       "    .dataframe tbody tr th {\n",
       "        vertical-align: top;\n",
       "    }\n",
       "\n",
       "    .dataframe thead th {\n",
       "        text-align: right;\n",
       "    }\n",
       "</style>\n",
       "<table border=\"1\" class=\"dataframe\">\n",
       "  <thead>\n",
       "    <tr style=\"text-align: right;\">\n",
       "      <th></th>\n",
       "      <th>id</th>\n",
       "      <th>text</th>\n",
       "      <th>embedding</th>\n",
       "    </tr>\n",
       "  </thead>\n",
       "  <tbody>\n",
       "    <tr>\n",
       "      <th>0</th>\n",
       "      <td>0</td>\n",
       "      <td>a pixel image.</td>\n",
       "      <td>[-0.029540338, 0.051602565, 0.031634264, -0.05...</td>\n",
       "    </tr>\n",
       "    <tr>\n",
       "      <th>1</th>\n",
       "      <td>1</td>\n",
       "      <td>iPhone can shoot higher resolution photos in 2...</td>\n",
       "      <td>[0.05018772, 0.01515901, 0.034717936, -0.03159...</td>\n",
       "    </tr>\n",
       "    <tr>\n",
       "      <th>2</th>\n",
       "      <td>2</td>\n",
       "      <td>They can now quickly switch between these new ...</td>\n",
       "      <td>[-0.009930151, -0.0053128777, 0.038176753, -0....</td>\n",
       "    </tr>\n",
       "    <tr>\n",
       "      <th>3</th>\n",
       "      <td>3</td>\n",
       "      <td>iPhone 15 Pro also gets next generation portra...</td>\n",
       "      <td>[-0.077535085, 0.053243104, 0.047085665, -0.07...</td>\n",
       "    </tr>\n",
       "    <tr>\n",
       "      <th>4</th>\n",
       "      <td>4</td>\n",
       "      <td>The smallest details of our expression are inc...</td>\n",
       "      <td>[0.013330734, 0.09756808, 0.043980382, 0.01519...</td>\n",
       "    </tr>\n",
       "    <tr>\n",
       "      <th>...</th>\n",
       "      <td>...</td>\n",
       "      <td>...</td>\n",
       "      <td>...</td>\n",
       "    </tr>\n",
       "    <tr>\n",
       "      <th>79</th>\n",
       "      <td>79</td>\n",
       "      <td>They're with us all the time, and we use them ...</td>\n",
       "      <td>[0.011874347, -0.03783722, 0.048084874, -0.001...</td>\n",
       "    </tr>\n",
       "    <tr>\n",
       "      <th>80</th>\n",
       "      <td>80</td>\n",
       "      <td>Thank you for joining us.</td>\n",
       "      <td>[0.030471608, -0.07470791, 0.031317618, -0.011...</td>\n",
       "    </tr>\n",
       "    <tr>\n",
       "      <th>81</th>\n",
       "      <td>81</td>\n",
       "      <td>Have a great day.</td>\n",
       "      <td>[-0.0603752, 0.02640435, 0.06287647, -0.043353...</td>\n",
       "    </tr>\n",
       "    <tr>\n",
       "      <th>82</th>\n",
       "      <td>82</td>\n",
       "      <td>Talk to you soon.</td>\n",
       "      <td>[0.016188892, -0.105991006, 0.08225385, 0.0338...</td>\n",
       "    </tr>\n",
       "    <tr>\n",
       "      <th>83</th>\n",
       "      <td>83</td>\n",
       "      <td>you</td>\n",
       "      <td>[-0.113688074, 0.028623832, 0.042876594, 0.014...</td>\n",
       "    </tr>\n",
       "  </tbody>\n",
       "</table>\n",
       "<p>84 rows × 3 columns</p>\n",
       "</div>"
      ],
      "text/plain": [
       "    id                                               text  \\\n",
       "0    0                                     a pixel image.   \n",
       "1    1  iPhone can shoot higher resolution photos in 2...   \n",
       "2    2  They can now quickly switch between these new ...   \n",
       "3    3  iPhone 15 Pro also gets next generation portra...   \n",
       "4    4  The smallest details of our expression are inc...   \n",
       "..  ..                                                ...   \n",
       "79  79  They're with us all the time, and we use them ...   \n",
       "80  80                          Thank you for joining us.   \n",
       "81  81                                  Have a great day.   \n",
       "82  82                                  Talk to you soon.   \n",
       "83  83                                                you   \n",
       "\n",
       "                                            embedding  \n",
       "0   [-0.029540338, 0.051602565, 0.031634264, -0.05...  \n",
       "1   [0.05018772, 0.01515901, 0.034717936, -0.03159...  \n",
       "2   [-0.009930151, -0.0053128777, 0.038176753, -0....  \n",
       "3   [-0.077535085, 0.053243104, 0.047085665, -0.07...  \n",
       "4   [0.013330734, 0.09756808, 0.043980382, 0.01519...  \n",
       "..                                                ...  \n",
       "79  [0.011874347, -0.03783722, 0.048084874, -0.001...  \n",
       "80  [0.030471608, -0.07470791, 0.031317618, -0.011...  \n",
       "81  [-0.0603752, 0.02640435, 0.06287647, -0.043353...  \n",
       "82  [0.016188892, -0.105991006, 0.08225385, 0.0338...  \n",
       "83  [-0.113688074, 0.028623832, 0.042876594, 0.014...  \n",
       "\n",
       "[84 rows x 3 columns]"
      ]
     },
     "execution_count": 47,
     "metadata": {},
     "output_type": "execute_result"
    }
   ],
   "source": [
    "pd.DataFrame(doc)"
   ]
  },
  {
   "cell_type": "markdown",
   "metadata": {},
   "source": [
    "## Try to chunk by sections in the video\n"
   ]
  },
  {
   "cell_type": "markdown",
   "metadata": {},
   "source": [
    "#Setup search and streamlit interface, maybe experiment with another embedding.\n",
    "\n",
    "#Website for songwriters."
   ]
  }
 ],
 "metadata": {
  "kernelspec": {
   "display_name": "analy_venv",
   "language": "python",
   "name": "python3"
  },
  "language_info": {
   "codemirror_mode": {
    "name": "ipython",
    "version": 3
   },
   "file_extension": ".py",
   "mimetype": "text/x-python",
   "name": "python",
   "nbconvert_exporter": "python",
   "pygments_lexer": "ipython3",
   "version": "3.8.10"
  },
  "orig_nbformat": 4
 },
 "nbformat": 4,
 "nbformat_minor": 2
}
